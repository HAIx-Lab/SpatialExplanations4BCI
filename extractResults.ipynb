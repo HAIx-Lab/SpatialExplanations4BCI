{
 "cells": [
  {
   "cell_type": "code",
   "execution_count": null,
   "id": "ee7fb900",
   "metadata": {},
   "outputs": [],
   "source": [
    "import pickle as pkl\n",
    "import pandas as pd\n",
    "import glob"
   ]
  },
  {
   "cell_type": "code",
   "execution_count": null,
   "id": "00440ba0",
   "metadata": {},
   "outputs": [],
   "source": [
    "file_path_list = glob.glob(\"./results/eegnet_topfr/*.pkl\") # transformer_results/lr lstm_results/lr\n",
    "appended_data = []\n",
    "\n",
    "for file_path in file_path_list:\n",
    "    with open(file_path, \"rb\") as f:\n",
    "        object = pkl.load(f)\n",
    "    df = pd.DataFrame(object)\n",
    "    subdf = pd.DataFrame(df['results'][0])\n",
    "    subdf['Experience'] = subdf.index\n",
    "#     print(subdf)\n",
    "    appended_data.append(subdf[[\"task_type\",\"strategy\",\"sub_id\",\"iteration\",\"Experience\",\"acc\",\"acc0\",\"acc1\"]]) #,\"acc2\"\n",
    "    #,\"chance level acc\"\n",
    "appended_data = pd.concat(appended_data,ignore_index=True)\n",
    "appended_data.rename(columns = {'strategy':'Strategy', 'sub_id':'Subject_ID',\n",
    "                              'acc':'Accuracy'}, inplace = True)\n",
    "\n",
    "# Change subject id for cross subject because paper should have sub id based on test set\n",
    "# appended_data[\"Subject_ID\"][appended_data[\"Subject_ID\"] == 9] = 10\n",
    "# appended_data[\"Subject_ID\"][appended_data[\"Subject_ID\"] == 8] = 9\n",
    "# appended_data[\"Subject_ID\"][appended_data[\"Subject_ID\"] == 7] = 8\n",
    "# appended_data[\"Subject_ID\"][appended_data[\"Subject_ID\"] == 6] = 7\n",
    "# appended_data[\"Subject_ID\"][appended_data[\"Subject_ID\"] == 5] = 6\n",
    "# appended_data[\"Subject_ID\"][appended_data[\"Subject_ID\"] == 4] = 5\n",
    "# appended_data[\"Subject_ID\"][appended_data[\"Subject_ID\"] == 3] = 4\n",
    "# appended_data[\"Subject_ID\"][appended_data[\"Subject_ID\"] == 2] = 3\n",
    "# appended_data[\"Subject_ID\"][appended_data[\"Subject_ID\"] == 1] = 2\n",
    "\n",
    "\n",
    "\n"
   ]
  },
  {
   "cell_type": "code",
   "execution_count": null,
   "id": "935fd9f5",
   "metadata": {},
   "outputs": [],
   "source": [
    "# final_df = appended_data[appended_data[\"Strategy\"].isin(['offline'])]\n",
    "final_df = appended_data\n",
    "# final_df['diff'] = final_df['chance level acc'] - final_df['Accuracy']\n",
    "print(final_df.to_string())\n",
    "# final_df.to_csv('eegnet_acc_topfr.csv')"
   ]
  },
  {
   "cell_type": "code",
   "execution_count": null,
   "id": "9b5e6a15",
   "metadata": {},
   "outputs": [],
   "source": [
    "top = final_df[final_df['diff'] <= -0.10]\n",
    "sorted(list(top[\"Subject_ID\"]))"
   ]
  }
 ],
 "metadata": {
  "kernelspec": {
   "display_name": "Python 3 (ipykernel)",
   "language": "python",
   "name": "python3"
  },
  "language_info": {
   "codemirror_mode": {
    "name": "ipython",
    "version": 3
   },
   "file_extension": ".py",
   "mimetype": "text/x-python",
   "name": "python",
   "nbconvert_exporter": "python",
   "pygments_lexer": "ipython3",
   "version": "3.7.3"
  }
 },
 "nbformat": 4,
 "nbformat_minor": 5
}
