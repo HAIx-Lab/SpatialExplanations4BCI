{
 "cells": [
  {
   "cell_type": "code",
   "execution_count": 1,
   "metadata": {},
   "outputs": [],
   "source": [
    "from scipy.signal import butter, lfilter\n",
    "import scipy\n",
    "import numpy as np\n",
    "\n",
    "def butter_bandpass_filter(data, lowcut, highcut, fs, order=5):\n",
    "    b, a = butter_bandpass(lowcut, highcut, fs, order=order)\n",
    "    y = scipy.signal.lfilter(b, a, data)\n",
    "    return y\n",
    "\n",
    "def butter_bandpass(lowcut, highcut, fs, order=5):\n",
    "    nyq = 0.5 * fs\n",
    "    low = lowcut / nyq\n",
    "    high = highcut / nyq\n",
    "    b, a = butter(order, [low, high], btype='band')\n",
    "    return b, a\n",
    "\n",
    "def one_hot(y_):\n",
    "    y_ = y_.reshape(len(y_))\n",
    "    y_ = [int(xx) for xx in y_]\n",
    "    n_values = np.max(y_) + 1\n",
    "    return np.eye(n_values)[np.array(y_, dtype=np.int32)]"
   ]
  },
  {
   "cell_type": "code",
   "execution_count": 8,
   "metadata": {},
   "outputs": [],
   "source": [
    "import numpy as np\n",
    "def extract(input, n_classes, n_fea, time_window, moving):\n",
    "    xx = input[:, :n_fea]\n",
    "    yy = input[:, n_fea:n_fea + 1]\n",
    "    new_x = []\n",
    "    new_y = []\n",
    "    number = int((xx.shape[0] / moving) - 1)\n",
    "    for i in range(number):\n",
    "        ave_y = np.average(yy[int(i * moving):int(i * moving + time_window)])\n",
    "        if ave_y in range(n_classes + 1):\n",
    "            new_x.append(xx[int(i * moving):int(i * moving + time_window), :])\n",
    "            new_y.append(ave_y)\n",
    "        else:\n",
    "            new_x.append(xx[int(i * moving):int(i * moving + time_window), :])\n",
    "            new_y.append(0)\n",
    "\n",
    "    new_x = np.array(new_x)\n",
    "    new_x = new_x.reshape([-1, n_fea * time_window])\n",
    "    new_y = np.array(new_y)\n",
    "    new_y.shape = [new_y.shape[0], 1]\n",
    "    data = np.hstack((new_x, new_y))\n",
    "    data = np.vstack((data, data[-1]))  # add the last sample again, to make the sample number round\n",
    "    return data"
   ]
  },
  {
   "cell_type": "code",
   "execution_count": null,
   "metadata": {},
   "outputs": [],
   "source": []
  }
 ],
 "metadata": {
  "kernelspec": {
   "display_name": "Python 3 (ipykernel)",
   "language": "python",
   "name": "python3"
  },
  "language_info": {
   "codemirror_mode": {
    "name": "ipython",
    "version": 3
   },
   "file_extension": ".py",
   "mimetype": "text/x-python",
   "name": "python",
   "nbconvert_exporter": "python",
   "pygments_lexer": "ipython3",
   "version": "3.7.3"
  },
  "toc": {
   "base_numbering": 1,
   "nav_menu": {},
   "number_sections": true,
   "sideBar": true,
   "skip_h1_title": false,
   "title_cell": "Table of Contents",
   "title_sidebar": "Contents",
   "toc_cell": false,
   "toc_position": {},
   "toc_section_display": true,
   "toc_window_display": false
  }
 },
 "nbformat": 4,
 "nbformat_minor": 4
}
